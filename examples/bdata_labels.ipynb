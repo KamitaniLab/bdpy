{
 "cells": [
  {
   "cell_type": "markdown",
   "metadata": {},
   "source": [
    "# String labels in BData"
   ]
  },
  {
   "cell_type": "markdown",
   "metadata": {},
   "source": [
    "The main body of BData, `dataste`, is a numpy array of numerical values and cannot contain strings. Instead, BData provides alternative trick to keep string information such as stimulus labels in BData: *value-label map* or *vmap*.\n",
    "\n",
    "Vmap defines mappings between values in a specified column in Bdata.dataset and strings."
   ]
  },
  {
   "cell_type": "markdown",
   "metadata": {},
   "source": [
    "## Example"
   ]
  },
  {
   "cell_type": "markdown",
   "metadata": {},
   "source": [
    "Here, the example data (`./data/sample_vmap.h5`) contains a column 'Label', which represents stimulus labels of each sample as numerical values. The original labels are given as strings such as 'label-01', 'label-02', ...."
   ]
  },
  {
   "cell_type": "code",
   "execution_count": 1,
   "metadata": {},
   "outputs": [],
   "source": [
    "import bdpy\n",
    "\n",
    "bdata = bdpy.BData('./data/sample_vmap.h5')  # Example data"
   ]
  },
  {
   "cell_type": "markdown",
   "metadata": {},
   "source": [
    "Column 'Label' in the BData contains stimulus labels as numbers."
   ]
  },
  {
   "cell_type": "code",
   "execution_count": 2,
   "metadata": {},
   "outputs": [
    {
     "data": {
      "text/plain": [
       "array([[1.],\n",
       "       [3.],\n",
       "       [4.],\n",
       "       [2.],\n",
       "       [3.],\n",
       "       [1.],\n",
       "       [2.],\n",
       "       [4.]])"
      ]
     },
     "execution_count": 2,
     "metadata": {},
     "output_type": "execute_result"
    }
   ],
   "source": [
    "bdata.get('Label')"
   ]
  },
  {
   "cell_type": "markdown",
   "metadata": {},
   "source": [
    "You can get the value-label map for the column 'Label' by `BData.get_vmap`."
   ]
  },
  {
   "cell_type": "code",
   "execution_count": 3,
   "metadata": {},
   "outputs": [
    {
     "data": {
      "text/plain": [
       "{1.0: 'label-01', 2.0: 'label-02', 3.0: 'label-03', 4.0: 'label-04'}"
      ]
     },
     "execution_count": 3,
     "metadata": {},
     "output_type": "execute_result"
    }
   ],
   "source": [
    "bdata.get_vmap('Label')"
   ]
  },
  {
   "cell_type": "markdown",
   "metadata": {},
   "source": [
    "`BData.get_label` returns values in the specified column as string labels, converting the value to label based on the vmap."
   ]
  },
  {
   "cell_type": "code",
   "execution_count": 4,
   "metadata": {},
   "outputs": [
    {
     "data": {
      "text/plain": [
       "['label-01',\n",
       " 'label-03',\n",
       " 'label-04',\n",
       " 'label-02',\n",
       " 'label-03',\n",
       " 'label-01',\n",
       " 'label-02',\n",
       " 'label-04']"
      ]
     },
     "execution_count": 4,
     "metadata": {},
     "output_type": "execute_result"
    }
   ],
   "source": [
    "bdata.get_label('Label')"
   ]
  },
  {
   "cell_type": "markdown",
   "metadata": {},
   "source": [
    "You can regard the function as an alias of the following code."
   ]
  },
  {
   "cell_type": "code",
   "execution_count": 5,
   "metadata": {},
   "outputs": [
    {
     "data": {
      "text/plain": [
       "['label-01',\n",
       " 'label-03',\n",
       " 'label-04',\n",
       " 'label-02',\n",
       " 'label-03',\n",
       " 'label-01',\n",
       " 'label-02',\n",
       " 'label-04']"
      ]
     },
     "execution_count": 5,
     "metadata": {},
     "output_type": "execute_result"
    }
   ],
   "source": [
    "[bdata.get_vmap('Label')[v] for v in bdata.get('Label').flatten()]"
   ]
  },
  {
   "cell_type": "markdown",
   "metadata": {},
   "source": [
    "## How to add vmap in BData"
   ]
  },
  {
   "cell_type": "markdown",
   "metadata": {},
   "source": [
    "### Bdata created by `create_bdata_fmriprep`"
   ]
  },
  {
   "cell_type": "markdown",
   "metadata": {},
   "source": [
    "When `bdpy.mri.create_bdata_fmriprep` (version 0.14rc2 or later) creates BData from fmriprep outputs, it automatically defines vmap in the resulting Bdata based on given `label_mapper` (label to value mapping specified as a tsv file)."
   ]
  },
  {
   "cell_type": "markdown",
   "metadata": {},
   "source": [
    "### Manually defining vmap in BData"
   ]
  },
  {
   "cell_type": "markdown",
   "metadata": {},
   "source": [
    "You can manually define a new vmap in Bdata by using `BData.add_vmap`."
   ]
  },
  {
   "cell_type": "code",
   "execution_count": 6,
   "metadata": {},
   "outputs": [
    {
     "ename": "UnboundLocalError",
     "evalue": "local variable 'vmap' referenced before assignment",
     "output_type": "error",
     "traceback": [
      "\u001b[0;31m---------------------------------------------------------------------------\u001b[0m",
      "\u001b[0;31mUnboundLocalError\u001b[0m                         Traceback (most recent call last)",
      "\u001b[0;32m<ipython-input-6-b84c7d7375b5>\u001b[0m in \u001b[0;36m<module>\u001b[0;34m()\u001b[0m\n\u001b[1;32m      1\u001b[0m \u001b[0;32mimport\u001b[0m \u001b[0mbdpy\u001b[0m\u001b[0;34m\u001b[0m\u001b[0m\n\u001b[1;32m      2\u001b[0m \u001b[0;34m\u001b[0m\u001b[0m\n\u001b[0;32m----> 3\u001b[0;31m \u001b[0mbdata\u001b[0m \u001b[0;34m=\u001b[0m \u001b[0mbdpy\u001b[0m\u001b[0;34m.\u001b[0m\u001b[0mBData\u001b[0m\u001b[0;34m(\u001b[0m\u001b[0;34m'./data/sample_vmap_nomap.h5'\u001b[0m\u001b[0;34m)\u001b[0m  \u001b[0;31m# Bdata without vmap\u001b[0m\u001b[0;34m\u001b[0m\u001b[0m\n\u001b[0m\u001b[1;32m      4\u001b[0m \u001b[0;34m\u001b[0m\u001b[0m\n\u001b[1;32m      5\u001b[0m \u001b[0mbdata\u001b[0m\u001b[0;34m.\u001b[0m\u001b[0mget_label\u001b[0m\u001b[0;34m(\u001b[0m\u001b[0;34m'Label'\u001b[0m\u001b[0;34m)\u001b[0m \u001b[0;31m# This should cause an error since no vmap is defined in the BData\u001b[0m\u001b[0;34m\u001b[0m\u001b[0m\n",
      "\u001b[0;32m/home/mu/aoki/work/bdpy/examples/bdpy/bdata/bdata.pyc\u001b[0m in \u001b[0;36m__init__\u001b[0;34m(self, file_name, file_type)\u001b[0m\n\u001b[1;32m     76\u001b[0m \u001b[0;34m\u001b[0m\u001b[0m\n\u001b[1;32m     77\u001b[0m         \u001b[0;32mif\u001b[0m \u001b[0mfile_name\u001b[0m \u001b[0;32mis\u001b[0m \u001b[0;32mnot\u001b[0m \u001b[0mNone\u001b[0m\u001b[0;34m:\u001b[0m\u001b[0;34m\u001b[0m\u001b[0m\n\u001b[0;32m---> 78\u001b[0;31m             \u001b[0mself\u001b[0m\u001b[0;34m.\u001b[0m\u001b[0mload\u001b[0m\u001b[0;34m(\u001b[0m\u001b[0mfile_name\u001b[0m\u001b[0;34m,\u001b[0m \u001b[0mfile_type\u001b[0m\u001b[0;34m)\u001b[0m\u001b[0;34m\u001b[0m\u001b[0m\n\u001b[0m\u001b[1;32m     79\u001b[0m \u001b[0;34m\u001b[0m\u001b[0m\n\u001b[1;32m     80\u001b[0m     \u001b[0;31m# Properties -------------------------------------------------------\u001b[0m\u001b[0;34m\u001b[0m\u001b[0;34m\u001b[0m\u001b[0m\n",
      "\u001b[0;32m/home/mu/aoki/work/bdpy/examples/bdpy/bdata/bdata.pyc\u001b[0m in \u001b[0;36mload\u001b[0;34m(self, load_filename, load_type)\u001b[0m\n\u001b[1;32m    721\u001b[0m             \u001b[0mself\u001b[0m\u001b[0;34m.\u001b[0m\u001b[0m__load_mat\u001b[0m\u001b[0;34m(\u001b[0m\u001b[0mload_filename\u001b[0m\u001b[0;34m)\u001b[0m\u001b[0;34m\u001b[0m\u001b[0m\n\u001b[1;32m    722\u001b[0m         \u001b[0;32melif\u001b[0m \u001b[0mload_type\u001b[0m \u001b[0;34m==\u001b[0m \u001b[0;34m\"HDF5\"\u001b[0m\u001b[0;34m:\u001b[0m\u001b[0;34m\u001b[0m\u001b[0m\n\u001b[0;32m--> 723\u001b[0;31m             \u001b[0mself\u001b[0m\u001b[0;34m.\u001b[0m\u001b[0m__load_h5\u001b[0m\u001b[0;34m(\u001b[0m\u001b[0mload_filename\u001b[0m\u001b[0;34m)\u001b[0m\u001b[0;34m\u001b[0m\u001b[0m\n\u001b[0m\u001b[1;32m    724\u001b[0m         \u001b[0;32melse\u001b[0m\u001b[0;34m:\u001b[0m\u001b[0;34m\u001b[0m\u001b[0m\n\u001b[1;32m    725\u001b[0m             \u001b[0;32mraise\u001b[0m \u001b[0mValueError\u001b[0m\u001b[0;34m(\u001b[0m\u001b[0;34m\"Unknown file type: %s\"\u001b[0m \u001b[0;34m%\u001b[0m \u001b[0;34m(\u001b[0m\u001b[0mload_type\u001b[0m\u001b[0;34m)\u001b[0m\u001b[0;34m)\u001b[0m\u001b[0;34m\u001b[0m\u001b[0m\n",
      "\u001b[0;32m/home/mu/aoki/work/bdpy/examples/bdpy/bdata/bdata.pyc\u001b[0m in \u001b[0;36m__load_h5\u001b[0;34m(self, load_filename)\u001b[0m\n\u001b[1;32m    889\u001b[0m                 \u001b[0;32mfor\u001b[0m \u001b[0mk\u001b[0m \u001b[0;32min\u001b[0m \u001b[0mdat\u001b[0m\u001b[0;34m[\u001b[0m\u001b[0;34m'vmap'\u001b[0m\u001b[0;34m]\u001b[0m\u001b[0;34m[\u001b[0m\u001b[0mmk\u001b[0m\u001b[0;34m]\u001b[0m\u001b[0;34m.\u001b[0m\u001b[0mkeys\u001b[0m\u001b[0;34m(\u001b[0m\u001b[0;34m)\u001b[0m\u001b[0;34m:\u001b[0m\u001b[0;34m\u001b[0m\u001b[0m\n\u001b[1;32m    890\u001b[0m                     \u001b[0mvmap\u001b[0m\u001b[0;34m.\u001b[0m\u001b[0mupdate\u001b[0m\u001b[0;34m(\u001b[0m\u001b[0;34m{\u001b[0m\u001b[0mfloat\u001b[0m\u001b[0;34m(\u001b[0m\u001b[0mk\u001b[0m\u001b[0;34m)\u001b[0m\u001b[0;34m:\u001b[0m \u001b[0mdat\u001b[0m\u001b[0;34m[\u001b[0m\u001b[0;34m'vmap'\u001b[0m\u001b[0;34m]\u001b[0m\u001b[0;34m[\u001b[0m\u001b[0mmk\u001b[0m\u001b[0;34m]\u001b[0m\u001b[0;34m[\u001b[0m\u001b[0mk\u001b[0m\u001b[0;34m]\u001b[0m\u001b[0;34m.\u001b[0m\u001b[0mvalue\u001b[0m\u001b[0;34m}\u001b[0m\u001b[0;34m)\u001b[0m\u001b[0;34m\u001b[0m\u001b[0m\n\u001b[0;32m--> 891\u001b[0;31m             \u001b[0mself\u001b[0m\u001b[0;34m.\u001b[0m\u001b[0m__vmap\u001b[0m\u001b[0;34m.\u001b[0m\u001b[0mupdate\u001b[0m\u001b[0;34m(\u001b[0m\u001b[0;34m{\u001b[0m\u001b[0mmk\u001b[0m\u001b[0;34m:\u001b[0m \u001b[0mvmap\u001b[0m\u001b[0;34m}\u001b[0m\u001b[0;34m)\u001b[0m\u001b[0;34m\u001b[0m\u001b[0m\n\u001b[0m\u001b[1;32m    892\u001b[0m \u001b[0;34m\u001b[0m\u001b[0m\n\u001b[1;32m    893\u001b[0m         \u001b[0mself\u001b[0m\u001b[0;34m.\u001b[0m\u001b[0m__metadata\u001b[0m\u001b[0;34m.\u001b[0m\u001b[0mkey\u001b[0m \u001b[0;34m=\u001b[0m \u001b[0mmd_keys\u001b[0m\u001b[0;34m\u001b[0m\u001b[0m\n",
      "\u001b[0;31mUnboundLocalError\u001b[0m: local variable 'vmap' referenced before assignment"
     ]
    }
   ],
   "source": [
    "import bdpy\n",
    "\n",
    "bdata = bdpy.BData('./data/sample_vmap_nomap.h5')  # Bdata without vmap\n",
    "\n",
    "bdata.get_label('Label') # This should cause an error since no vmap is defined in the BData"
   ]
  },
  {
   "cell_type": "code",
   "execution_count": 7,
   "metadata": {},
   "outputs": [
    {
     "data": {
      "text/plain": [
       "['label-01',\n",
       " 'label-03',\n",
       " 'label-04',\n",
       " 'label-02',\n",
       " 'label-03',\n",
       " 'label-01',\n",
       " 'label-02',\n",
       " 'label-04']"
      ]
     },
     "execution_count": 7,
     "metadata": {},
     "output_type": "execute_result"
    }
   ],
   "source": [
    "# Define value-label mapping as a dictionary\n",
    "# Note that the key should be numerical values included in the specified column.\n",
    "label_map = {1: 'label-01',\n",
    "             2: 'label-02',\n",
    "             3: 'label-03',\n",
    "             4: 'label-04'}\n",
    "\n",
    "# Add vmap\n",
    "bdata.add_vmap('Label', label_map)  # Define vmap for column 'Label'\n",
    "\n",
    "# Get labels\n",
    "bdata.get_label('Label')"
   ]
  },
  {
   "cell_type": "markdown",
   "metadata": {},
   "source": [
    "## Appendix: creating sample data"
   ]
  },
  {
   "cell_type": "code",
   "execution_count": null,
   "metadata": {},
   "outputs": [],
   "source": [
    "import bdpy\n",
    "import numpy as np\n",
    "\n",
    "x = np.random.rand(8, 10)\n",
    "labels = np.array([1, 3, 4, 2, 3, 1, 2, 4]).reshape(8, 1)\n",
    "\n",
    "value_label_map = {1: 'label-01',\n",
    "                   2: 'label-02',\n",
    "                   3: 'label-03',\n",
    "                   4: 'label-04'}\n",
    "\n",
    "bdata = bdpy.BData()\n",
    "bdata.add(x, 'Data')\n",
    "bdata.add(labels, 'Label')\n",
    "\n",
    "bdata.save('./data/sample_vmap_nomap.h5')\n",
    "\n",
    "bdata.add_vmap('Label', value_label_map)\n",
    "\n",
    "bdata.save('./data/sample_vmap.h5')\n",
    "\n",
    "bdata.get_label('Label')"
   ]
  }
 ],
 "metadata": {
  "kernelspec": {
   "display_name": "Python 2",
   "language": "python",
   "name": "python2"
  },
  "language_info": {
   "codemirror_mode": {
    "name": "ipython",
    "version": 2
   },
   "file_extension": ".py",
   "mimetype": "text/x-python",
   "name": "python",
   "nbconvert_exporter": "python",
   "pygments_lexer": "ipython2",
   "version": "2.7.15"
  }
 },
 "nbformat": 4,
 "nbformat_minor": 2
}
